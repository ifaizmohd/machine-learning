{
 "cells": [
  {
   "cell_type": "code",
   "execution_count": 1,
   "metadata": {},
   "outputs": [],
   "source": [
    "import numpy as np\n",
    "from matplotlib.image import imread "
   ]
  },
  {
   "cell_type": "markdown",
   "metadata": {},
   "source": [
    "<img src=\"images/image_3.jpg\"/>"
   ]
  },
  {
   "cell_type": "code",
   "execution_count": 4,
   "metadata": {},
   "outputs": [],
   "source": [
    "image = imread(\"images/image_3.jpg\")"
   ]
  },
  {
   "cell_type": "code",
   "execution_count": 5,
   "metadata": {},
   "outputs": [
    {
     "data": {
      "text/plain": [
       "array([[[162, 204, 220],\n",
       "        [162, 204, 220],\n",
       "        [162, 204, 220],\n",
       "        ...,\n",
       "        [228, 216, 228],\n",
       "        [228, 216, 228],\n",
       "        [228, 216, 228]],\n",
       "\n",
       "       [[160, 202, 218],\n",
       "        [160, 202, 218],\n",
       "        [161, 203, 219],\n",
       "        ...,\n",
       "        [228, 216, 228],\n",
       "        [228, 216, 228],\n",
       "        [228, 216, 228]],\n",
       "\n",
       "       [[158, 200, 216],\n",
       "        [159, 201, 217],\n",
       "        [160, 202, 218],\n",
       "        ...,\n",
       "        [228, 216, 228],\n",
       "        [228, 216, 228],\n",
       "        [228, 216, 228]],\n",
       "\n",
       "       ...,\n",
       "\n",
       "       [[162, 204, 216],\n",
       "        [162, 204, 216],\n",
       "        [162, 204, 216],\n",
       "        ...,\n",
       "        [179, 111, 124],\n",
       "        [179, 111, 124],\n",
       "        [180, 112, 123]],\n",
       "\n",
       "       [[162, 204, 216],\n",
       "        [162, 204, 216],\n",
       "        [162, 204, 216],\n",
       "        ...,\n",
       "        [178, 110, 123],\n",
       "        [179, 111, 124],\n",
       "        [180, 112, 123]],\n",
       "\n",
       "       [[162, 204, 216],\n",
       "        [162, 204, 216],\n",
       "        [163, 205, 217],\n",
       "        ...,\n",
       "        [178, 110, 123],\n",
       "        [179, 111, 124],\n",
       "        [180, 112, 123]]], dtype=uint8)"
      ]
     },
     "execution_count": 5,
     "metadata": {},
     "output_type": "execute_result"
    }
   ],
   "source": [
    "image"
   ]
  },
  {
   "cell_type": "code",
   "execution_count": 6,
   "metadata": {},
   "outputs": [
    {
     "data": {
      "text/plain": [
       "2880000"
      ]
     },
     "execution_count": 6,
     "metadata": {},
     "output_type": "execute_result"
    }
   ],
   "source": [
    "image.size"
   ]
  },
  {
   "cell_type": "code",
   "execution_count": null,
   "metadata": {},
   "outputs": [],
   "source": []
  }
 ],
 "metadata": {
  "kernelspec": {
   "display_name": "Python 3",
   "language": "python",
   "name": "python3"
  },
  "language_info": {
   "codemirror_mode": {
    "name": "ipython",
    "version": 3
   },
   "file_extension": ".py",
   "mimetype": "text/x-python",
   "name": "python",
   "nbconvert_exporter": "python",
   "pygments_lexer": "ipython3",
   "version": "3.7.8"
  }
 },
 "nbformat": 4,
 "nbformat_minor": 4
}
